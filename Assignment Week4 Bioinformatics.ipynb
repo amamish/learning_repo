{
 "cells": [
  {
   "cell_type": "markdown",
   "metadata": {},
   "source": [
    "## Дифференциально экспрессированные гены"
   ]
  },
  {
   "cell_type": "markdown",
   "metadata": {},
   "source": [
    "### Обнаружение статистически значимых отличий в уровнях экспрессии генов больных раком"
   ]
  },
  {
   "cell_type": "code",
   "execution_count": 7,
   "metadata": {},
   "outputs": [],
   "source": [
    "import numpy as np\n",
    "import pandas as pd\n",
    "import seaborn as sns\n",
    "%matplotlib inline"
   ]
  },
  {
   "cell_type": "code",
   "execution_count": 3,
   "metadata": {},
   "outputs": [],
   "source": [
    "import statsmodels\n",
    "import scipy as sc\n",
    "from statsmodels.sandbox.stats.multicomp import multipletests \n",
    "from scipy.stats import pearsonr\n",
    "import matplotlib.pyplot as plt"
   ]
  },
  {
   "cell_type": "markdown",
   "metadata": {},
   "source": [
    "#### Описание используемых данных\n",
    "Данные для этой задачи взяты из исследования, проведенного в Stanford School of Medicine. В исследовании была предпринята попытка выявить набор генов, которые позволили бы более точно диагностировать возникновение рака груди на самых ранних стадиях.\n",
    "\n",
    "В эксперименте принимали участие 24 человек, у которых не было рака груди (normal), 25 человек, у которых это заболевание было диагностировано на ранней стадии (early neoplasia), и 23 человека с сильно выраженными симптомами (cancer)."
   ]
  },
  {
   "cell_type": "markdown",
   "metadata": {},
   "source": [
    "Ученые провели секвенирование биологического материала испытуемых, чтобы понять, какие из этих генов наиболее активны в клетках больных людей.\n",
    "\n",
    "Секвенирование — это определение степени активности генов в анализируемом образце с помощью подсчёта количества соответствующей каждому гену РНК.\n",
    "\n",
    "В данных содерижится именно эта количественная мера активности каждого из 15748 генов у каждого из 72 человек, принимавших участие в эксперименте.\n",
    "\n",
    "Необходимо определить те гены, активность которых у людей в разных стадиях заболевания отличается статистически значимо.\n",
    "\n",
    "Кроме того, нужно оценить не только статистическую, но и практическую значимость этих результатов, которая часто используется в подобных исследованиях.\n",
    "\n",
    "Диагноз человека содержится в столбце под названием \"Diagnosis\"."
   ]
  },
  {
   "cell_type": "code",
   "execution_count": 4,
   "metadata": {},
   "outputs": [
    {
     "data": {
      "text/html": [
       "<div>\n",
       "<style scoped>\n",
       "    .dataframe tbody tr th:only-of-type {\n",
       "        vertical-align: middle;\n",
       "    }\n",
       "\n",
       "    .dataframe tbody tr th {\n",
       "        vertical-align: top;\n",
       "    }\n",
       "\n",
       "    .dataframe thead th {\n",
       "        text-align: right;\n",
       "    }\n",
       "</style>\n",
       "<table border=\"1\" class=\"dataframe\">\n",
       "  <thead>\n",
       "    <tr style=\"text-align: right;\">\n",
       "      <th></th>\n",
       "      <th>Patient_id</th>\n",
       "      <th>Diagnosis</th>\n",
       "      <th>LOC643837</th>\n",
       "      <th>LOC100130417</th>\n",
       "      <th>SAMD11</th>\n",
       "      <th>NOC2L</th>\n",
       "      <th>KLHL17</th>\n",
       "      <th>PLEKHN1</th>\n",
       "      <th>C1orf170</th>\n",
       "      <th>HES4</th>\n",
       "      <th>...</th>\n",
       "      <th>CLIC2</th>\n",
       "      <th>RPS4Y1</th>\n",
       "      <th>ZFY</th>\n",
       "      <th>PRKY</th>\n",
       "      <th>USP9Y</th>\n",
       "      <th>DDX3Y</th>\n",
       "      <th>CD24</th>\n",
       "      <th>CYorf15B</th>\n",
       "      <th>KDM5D</th>\n",
       "      <th>EIF1AY</th>\n",
       "    </tr>\n",
       "  </thead>\n",
       "  <tbody>\n",
       "    <tr>\n",
       "      <th>0</th>\n",
       "      <td>STT5425_Breast_001_normal</td>\n",
       "      <td>normal</td>\n",
       "      <td>1.257614</td>\n",
       "      <td>2.408148</td>\n",
       "      <td>13.368622</td>\n",
       "      <td>9.494779</td>\n",
       "      <td>20.880435</td>\n",
       "      <td>12.722017</td>\n",
       "      <td>9.494779</td>\n",
       "      <td>54.349694</td>\n",
       "      <td>...</td>\n",
       "      <td>4.761250</td>\n",
       "      <td>1.257614</td>\n",
       "      <td>1.257614</td>\n",
       "      <td>1.257614</td>\n",
       "      <td>1.257614</td>\n",
       "      <td>1.257614</td>\n",
       "      <td>23.268694</td>\n",
       "      <td>1.257614</td>\n",
       "      <td>1.257614</td>\n",
       "      <td>1.257614</td>\n",
       "    </tr>\n",
       "    <tr>\n",
       "      <th>1</th>\n",
       "      <td>STT5427_Breast_023_normal</td>\n",
       "      <td>normal</td>\n",
       "      <td>4.567931</td>\n",
       "      <td>16.602734</td>\n",
       "      <td>42.477752</td>\n",
       "      <td>25.562376</td>\n",
       "      <td>23.221137</td>\n",
       "      <td>11.622386</td>\n",
       "      <td>14.330573</td>\n",
       "      <td>72.445474</td>\n",
       "      <td>...</td>\n",
       "      <td>6.871902</td>\n",
       "      <td>1.815112</td>\n",
       "      <td>1.815112</td>\n",
       "      <td>1.815112</td>\n",
       "      <td>1.815112</td>\n",
       "      <td>1.815112</td>\n",
       "      <td>10.427023</td>\n",
       "      <td>1.815112</td>\n",
       "      <td>1.815112</td>\n",
       "      <td>1.815112</td>\n",
       "    </tr>\n",
       "    <tr>\n",
       "      <th>2</th>\n",
       "      <td>STT5430_Breast_002_normal</td>\n",
       "      <td>normal</td>\n",
       "      <td>2.077597</td>\n",
       "      <td>3.978294</td>\n",
       "      <td>12.863214</td>\n",
       "      <td>13.728915</td>\n",
       "      <td>14.543176</td>\n",
       "      <td>14.141907</td>\n",
       "      <td>6.232790</td>\n",
       "      <td>57.011005</td>\n",
       "      <td>...</td>\n",
       "      <td>7.096343</td>\n",
       "      <td>2.077597</td>\n",
       "      <td>2.077597</td>\n",
       "      <td>2.077597</td>\n",
       "      <td>2.077597</td>\n",
       "      <td>2.077597</td>\n",
       "      <td>22.344226</td>\n",
       "      <td>2.077597</td>\n",
       "      <td>2.077597</td>\n",
       "      <td>2.077597</td>\n",
       "    </tr>\n",
       "    <tr>\n",
       "      <th>3</th>\n",
       "      <td>STT5439_Breast_003_normal</td>\n",
       "      <td>normal</td>\n",
       "      <td>2.066576</td>\n",
       "      <td>8.520713</td>\n",
       "      <td>14.466035</td>\n",
       "      <td>7.823932</td>\n",
       "      <td>8.520713</td>\n",
       "      <td>2.066576</td>\n",
       "      <td>10.870009</td>\n",
       "      <td>53.292034</td>\n",
       "      <td>...</td>\n",
       "      <td>5.200770</td>\n",
       "      <td>2.066576</td>\n",
       "      <td>2.066576</td>\n",
       "      <td>2.066576</td>\n",
       "      <td>2.066576</td>\n",
       "      <td>2.066576</td>\n",
       "      <td>49.295538</td>\n",
       "      <td>2.066576</td>\n",
       "      <td>2.066576</td>\n",
       "      <td>2.066576</td>\n",
       "    </tr>\n",
       "    <tr>\n",
       "      <th>4</th>\n",
       "      <td>STT5441_Breast_004_normal</td>\n",
       "      <td>normal</td>\n",
       "      <td>2.613616</td>\n",
       "      <td>3.434965</td>\n",
       "      <td>12.682222</td>\n",
       "      <td>10.543189</td>\n",
       "      <td>26.688686</td>\n",
       "      <td>12.484822</td>\n",
       "      <td>1.364917</td>\n",
       "      <td>67.140393</td>\n",
       "      <td>...</td>\n",
       "      <td>11.227770</td>\n",
       "      <td>1.364917</td>\n",
       "      <td>1.364917</td>\n",
       "      <td>1.364917</td>\n",
       "      <td>1.364917</td>\n",
       "      <td>1.364917</td>\n",
       "      <td>23.627911</td>\n",
       "      <td>1.364917</td>\n",
       "      <td>1.364917</td>\n",
       "      <td>1.364917</td>\n",
       "    </tr>\n",
       "  </tbody>\n",
       "</table>\n",
       "<p>5 rows × 15750 columns</p>\n",
       "</div>"
      ],
      "text/plain": [
       "                  Patient_id Diagnosis  LOC643837  LOC100130417     SAMD11  \\\n",
       "0  STT5425_Breast_001_normal    normal   1.257614      2.408148  13.368622   \n",
       "1  STT5427_Breast_023_normal    normal   4.567931     16.602734  42.477752   \n",
       "2  STT5430_Breast_002_normal    normal   2.077597      3.978294  12.863214   \n",
       "3  STT5439_Breast_003_normal    normal   2.066576      8.520713  14.466035   \n",
       "4  STT5441_Breast_004_normal    normal   2.613616      3.434965  12.682222   \n",
       "\n",
       "       NOC2L     KLHL17    PLEKHN1   C1orf170       HES4  ...      CLIC2  \\\n",
       "0   9.494779  20.880435  12.722017   9.494779  54.349694  ...   4.761250   \n",
       "1  25.562376  23.221137  11.622386  14.330573  72.445474  ...   6.871902   \n",
       "2  13.728915  14.543176  14.141907   6.232790  57.011005  ...   7.096343   \n",
       "3   7.823932   8.520713   2.066576  10.870009  53.292034  ...   5.200770   \n",
       "4  10.543189  26.688686  12.484822   1.364917  67.140393  ...  11.227770   \n",
       "\n",
       "     RPS4Y1       ZFY      PRKY     USP9Y     DDX3Y       CD24  CYorf15B  \\\n",
       "0  1.257614  1.257614  1.257614  1.257614  1.257614  23.268694  1.257614   \n",
       "1  1.815112  1.815112  1.815112  1.815112  1.815112  10.427023  1.815112   \n",
       "2  2.077597  2.077597  2.077597  2.077597  2.077597  22.344226  2.077597   \n",
       "3  2.066576  2.066576  2.066576  2.066576  2.066576  49.295538  2.066576   \n",
       "4  1.364917  1.364917  1.364917  1.364917  1.364917  23.627911  1.364917   \n",
       "\n",
       "      KDM5D    EIF1AY  \n",
       "0  1.257614  1.257614  \n",
       "1  1.815112  1.815112  \n",
       "2  2.077597  2.077597  \n",
       "3  2.066576  2.066576  \n",
       "4  1.364917  1.364917  \n",
       "\n",
       "[5 rows x 15750 columns]"
      ]
     },
     "execution_count": 4,
     "metadata": {},
     "output_type": "execute_result"
    }
   ],
   "source": [
    "data = pd.read_csv('gene_high_throughput_sequencing.csv')\n",
    "data.head()"
   ]
  },
  {
   "cell_type": "code",
   "execution_count": 9,
   "metadata": {},
   "outputs": [
    {
     "data": {
      "image/png": "[encoded data removed]",
      "text/plain": [
       "<Figure size 432x288 with 1 Axes>"
      ]
     },
     "metadata": {
      "needs_background": "light"
     },
     "output_type": "display_data"
    }
   ],
   "source": [
    "sns.countplot(x='Diagnosis', data=data);"
   ]
  },
  {
   "cell_type": "code",
   "execution_count": 10,
   "metadata": {},
   "outputs": [
    {
     "data": {
      "text/plain": [
       "early neoplasia    25\n",
       "normal             24\n",
       "cancer             23\n",
       "Name: Diagnosis, dtype: int64"
      ]
     },
     "execution_count": 10,
     "metadata": {},
     "output_type": "execute_result"
    }
   ],
   "source": [
    "data['Diagnosis'].value_counts()"
   ]
  },
  {
   "cell_type": "code",
   "execution_count": 12,
   "metadata": {},
   "outputs": [
    {
     "name": "stdout",
     "output_type": "stream",
     "text": [
      "<class 'pandas.core.frame.DataFrame'>\n",
      "RangeIndex: 72 entries, 0 to 71\n",
      "Columns: 15750 entries, Patient_id to EIF1AY\n",
      "dtypes: float64(15748), object(2)\n",
      "memory usage: 8.7+ MB\n"
     ]
    }
   ],
   "source": [
    "data.info()"
   ]
  },
  {
   "cell_type": "markdown",
   "metadata": {},
   "source": [
    "**Часть 1: применение t-критерия Стьюдента**\n",
    "\n",
    "В первой части нужно применить критерий Стьюдента для проверки гипотезы о равенстве средних в двух независимых выборках. Применить критерий для каждого гена нужно будет дважды:\n",
    "- для групп normal (control) и early neoplasia (treatment)\n",
    "- для групп early neoplasia (control) и cancer (treatment)\n",
    "В качестве ответа в этой части задания необходимо указать количество статистически значимых отличий, которые были выявлены с помощью t-критерия Стьюдента, то есть число генов, у которых p-value этого теста оказался меньше, чем уровень значимости."
   ]
  },
  {
   "cell_type": "markdown",
   "metadata": {},
   "source": [
    "Критерий Стьюдента:\n",
    "\n",
    "$H_0\\colon$ средние значения степени активности генов для пациентов с разными диагнозами одинаковы.\n",
    "\n",
    "$H_1\\colon$ не одинаковы."
   ]
  },
  {
   "cell_type": "code",
   "execution_count": 16,
   "metadata": {},
   "outputs": [],
   "source": [
    "normal = data[data['Diagnosis'] == 'normal']\n",
    "neopla = data[data['Diagnosis'] == 'early neoplasia']\n",
    "cancer = data[data['Diagnosis'] == 'cancer']"
   ]
  },
  {
   "cell_type": "code",
   "execution_count": 17,
   "metadata": {},
   "outputs": [
    {
     "data": {
      "text/plain": [
       "((24, 15750), (25, 15750), (23, 15750))"
      ]
     },
     "execution_count": 17,
     "metadata": {},
     "output_type": "execute_result"
    }
   ],
   "source": [
    "normal.shape, neopla.shape, cancer.shape"
   ]
  },
  {
   "cell_type": "code",
   "execution_count": 23,
   "metadata": {},
   "outputs": [
    {
     "data": {
      "text/plain": [
       "pandas.core.series.Series"
      ]
     },
     "execution_count": 23,
     "metadata": {},
     "output_type": "execute_result"
    }
   ],
   "source": [
    "type(normal.iloc[:,2])"
   ]
  },
  {
   "cell_type": "code",
   "execution_count": 25,
   "metadata": {},
   "outputs": [
    {
     "data": {
      "text/plain": [
       "Ttest_indResult(statistic=0.400507602393171, pvalue=0.6905974705672389)"
      ]
     },
     "execution_count": 25,
     "metadata": {},
     "output_type": "execute_result"
    }
   ],
   "source": [
    "sc.stats.ttest_ind(normal.iloc[:,2], neopla.iloc[:,2])"
   ]
  },
  {
   "cell_type": "code",
   "execution_count": 26,
   "metadata": {},
   "outputs": [
    {
     "data": {
      "text/plain": [
       "Ttest_indResult(statistic=-4.594020846356375, pvalue=3.270551648843359e-05)"
      ]
     },
     "execution_count": 26,
     "metadata": {},
     "output_type": "execute_result"
    }
   ],
   "source": [
    "sc.stats.ttest_ind(normal.iloc[:,3], neopla.iloc[:,3])"
   ]
  },
  {
   "cell_type": "code",
   "execution_count": 43,
   "metadata": {},
   "outputs": [
    {
     "name": "stdout",
     "output_type": "stream",
     "text": [
      "Wall time: 70 ms\n"
     ]
    }
   ],
   "source": [
    "%%time\n",
    "stat1 = sc.stats.ttest_ind(normal.iloc[:,2:], neopla.iloc[:,2:], equal_var = False)"
   ]
  },
  {
   "cell_type": "code",
   "execution_count": 44,
   "metadata": {},
   "outputs": [
    {
     "data": {
      "text/plain": [
       "(15748,)"
      ]
     },
     "execution_count": 44,
     "metadata": {},
     "output_type": "execute_result"
    }
   ],
   "source": [
    "stat1[0].shape"
   ]
  },
  {
   "cell_type": "code",
   "execution_count": 45,
   "metadata": {},
   "outputs": [
    {
     "name": "stdout",
     "output_type": "stream",
     "text": [
      "Wall time: 34 ms\n"
     ]
    }
   ],
   "source": [
    "%%time\n",
    "stat2 = sc.stats.ttest_ind(neopla.iloc[:,2:], cancer.iloc[:,2:], equal_var = False)"
   ]
  },
  {
   "cell_type": "code",
   "execution_count": 46,
   "metadata": {},
   "outputs": [
    {
     "data": {
      "text/plain": [
       "(15748,)"
      ]
     },
     "execution_count": 46,
     "metadata": {},
     "output_type": "execute_result"
    }
   ],
   "source": [
    "stat2[0].shape"
   ]
  },
  {
   "cell_type": "code",
   "execution_count": 41,
   "metadata": {},
   "outputs": [],
   "source": [
    "def write_answer(file, d):\n",
    "    with open(file, \"w\") as fout:\n",
    "        fout.write(str(d))"
   ]
  },
  {
   "cell_type": "code",
   "execution_count": 47,
   "metadata": {},
   "outputs": [
    {
     "data": {
      "text/plain": [
       "1575"
      ]
     },
     "execution_count": 47,
     "metadata": {},
     "output_type": "execute_result"
    }
   ],
   "source": [
    "np.sum(stat1[1] < 0.05)"
   ]
  },
  {
   "cell_type": "code",
   "execution_count": 48,
   "metadata": {},
   "outputs": [
    {
     "data": {
      "text/plain": [
       "3490"
      ]
     },
     "execution_count": 48,
     "metadata": {},
     "output_type": "execute_result"
    }
   ],
   "source": [
    "np.sum(stat2[1] < 0.05)"
   ]
  },
  {
   "cell_type": "code",
   "execution_count": 49,
   "metadata": {},
   "outputs": [],
   "source": [
    "write_answer('bioinformatics_ans1.txt', np.sum(stat1[1] < 0.05))\n",
    "write_answer('bioinformatics_ans2.txt', np.sum(stat2[1] < 0.05))"
   ]
  },
  {
   "cell_type": "markdown",
   "metadata": {},
   "source": [
    "**Часть 2: поправка методом Холма**"
   ]
  },
  {
   "cell_type": "markdown",
   "metadata": {},
   "source": [
    "В этой части задания нужно применить поправку Холма для получившихся двух наборов достигаемых уровней значимости из предыдущей части. Поскольку делается поправку для каждого из двух наборов p-value отдельно, то проблема, связанная с множественной проверкой останется.\n",
    "\n",
    "Для того, чтобы ее устранить, достаточно воспользоваться поправкой Бонферрони, то есть использовать уровень значимости 0.05 / 2 вместо 0.05 для дальнейшего уточнения значений p-value c помощью метода Холма.\n",
    "\n",
    "В качестве ответа к этому заданию требуется ввести количество значимых отличий в каждой группе после того, как произведена коррекция Холма-Бонферрони. Причем это число нужно ввести с учетом практической значимости: посчитать для каждого значимого изменения fold change и выписать в ответ число таких значимых изменений, абсолютное значение fold change которых больше, чем 1.5.\n",
    "\n",
    "Важно:\n",
    "- применять поправку на множественную проверку нужно ко всем значениям достигаемых уровней значимости, а не только для тех, которые меньше значения уровня доверия.\n",
    "- при использовании поправки на уровне значимости 0.025 меняются значения достигаемого уровня значимости, но не меняется значение уровня доверия (то есть для отбора значимых изменений скорректированные значения уровня значимости нужно сравнивать с порогом 0.025, а не 0.05)!"
   ]
  },
  {
   "cell_type": "markdown",
   "metadata": {},
   "source": [
    "**Практическая значимость изменения**\n",
    "Цель исследований — найти гены, средняя экспрессия которых отличается не только статистически значимо, но и достаточно сильно. В экспрессионных исследованиях для этого часто используется метрика, которая называется fold change (кратность изменения). Определяется она следующим образом:\n",
    "\n",
    "Fc(C,T)=\n",
    "T/C,T>C\n",
    "-T/C, T<C\n",
    "где C,T — средние значения экспрессии гена в control и treatment группах соответственно. По сути, fold change показывает, во сколько раз отличаются средние двух выборок.\n",
    "\n",
    "Инструкции к решени"
   ]
  },
  {
   "cell_type": "code",
   "execution_count": 13,
   "metadata": {},
   "outputs": [],
   "source": [
    "import statsmodels.stats.multitest as smm"
   ]
  },
  {
   "cell_type": "code",
   "execution_count": 51,
   "metadata": {},
   "outputs": [],
   "source": [
    "reject1, p_corrected1, a1, a2 = multipletests(stat1[1], \n",
    "                                            alpha = 0.025, \n",
    "                                            method = 'holm') "
   ]
  },
  {
   "cell_type": "code",
   "execution_count": 52,
   "metadata": {},
   "outputs": [],
   "source": [
    "reject2, p_corrected2, a1, a2 = multipletests(stat2[1], \n",
    "                                            alpha = 0.025, \n",
    "                                            method = 'holm') "
   ]
  },
  {
   "cell_type": "code",
   "execution_count": 54,
   "metadata": {},
   "outputs": [
    {
     "data": {
      "text/plain": [
       "(2, 79)"
      ]
     },
     "execution_count": 54,
     "metadata": {},
     "output_type": "execute_result"
    }
   ],
   "source": [
    "sum(reject1), sum(reject2)"
   ]
  },
  {
   "cell_type": "code",
   "execution_count": 55,
   "metadata": {},
   "outputs": [
    {
     "data": {
      "text/plain": [
       "2"
      ]
     },
     "execution_count": 55,
     "metadata": {},
     "output_type": "execute_result"
    }
   ],
   "source": [
    "sum(p_corrected1 < 0.025)"
   ]
  },
  {
   "cell_type": "code",
   "execution_count": 58,
   "metadata": {},
   "outputs": [
    {
     "data": {
      "text/plain": [
       "(15748,)"
      ]
     },
     "execution_count": 58,
     "metadata": {},
     "output_type": "execute_result"
    }
   ],
   "source": [
    "reject1.shape"
   ]
  },
  {
   "cell_type": "code",
   "execution_count": 65,
   "metadata": {},
   "outputs": [],
   "source": [
    "ind1 = np.where(reject1)[0]+2"
   ]
  },
  {
   "cell_type": "code",
   "execution_count": 67,
   "metadata": {},
   "outputs": [
    {
     "data": {
      "text/html": [
       "<div>\n",
       "<style scoped>\n",
       "    .dataframe tbody tr th:only-of-type {\n",
       "        vertical-align: middle;\n",
       "    }\n",
       "\n",
       "    .dataframe tbody tr th {\n",
       "        vertical-align: top;\n",
       "    }\n",
       "\n",
       "    .dataframe thead th {\n",
       "        text-align: right;\n",
       "    }\n",
       "</style>\n",
       "<table border=\"1\" class=\"dataframe\">\n",
       "  <thead>\n",
       "    <tr style=\"text-align: right;\">\n",
       "      <th></th>\n",
       "      <th>PCSK4</th>\n",
       "      <th>EEF1A2</th>\n",
       "    </tr>\n",
       "  </thead>\n",
       "  <tbody>\n",
       "    <tr>\n",
       "      <th>0</th>\n",
       "      <td>15.143680</td>\n",
       "      <td>20.880435</td>\n",
       "    </tr>\n",
       "    <tr>\n",
       "      <th>1</th>\n",
       "      <td>23.221137</td>\n",
       "      <td>12.355210</td>\n",
       "    </tr>\n",
       "    <tr>\n",
       "      <th>2</th>\n",
       "      <td>16.750119</td>\n",
       "      <td>17.750992</td>\n",
       "    </tr>\n",
       "    <tr>\n",
       "      <th>3</th>\n",
       "      <td>7.823932</td>\n",
       "      <td>21.968009</td>\n",
       "    </tr>\n",
       "    <tr>\n",
       "      <th>4</th>\n",
       "      <td>15.661885</td>\n",
       "      <td>11.446869</td>\n",
       "    </tr>\n",
       "    <tr>\n",
       "      <th>5</th>\n",
       "      <td>18.381632</td>\n",
       "      <td>20.512741</td>\n",
       "    </tr>\n",
       "    <tr>\n",
       "      <th>6</th>\n",
       "      <td>19.261454</td>\n",
       "      <td>27.674988</td>\n",
       "    </tr>\n",
       "    <tr>\n",
       "      <th>7</th>\n",
       "      <td>14.823633</td>\n",
       "      <td>16.443229</td>\n",
       "    </tr>\n",
       "    <tr>\n",
       "      <th>8</th>\n",
       "      <td>15.828090</td>\n",
       "      <td>14.936895</td>\n",
       "    </tr>\n",
       "    <tr>\n",
       "      <th>9</th>\n",
       "      <td>10.708421</td>\n",
       "      <td>10.895482</td>\n",
       "    </tr>\n",
       "    <tr>\n",
       "      <th>10</th>\n",
       "      <td>19.642445</td>\n",
       "      <td>25.749441</td>\n",
       "    </tr>\n",
       "    <tr>\n",
       "      <th>11</th>\n",
       "      <td>12.573752</td>\n",
       "      <td>22.740325</td>\n",
       "    </tr>\n",
       "    <tr>\n",
       "      <th>12</th>\n",
       "      <td>13.940388</td>\n",
       "      <td>30.977235</td>\n",
       "    </tr>\n",
       "    <tr>\n",
       "      <th>13</th>\n",
       "      <td>14.455016</td>\n",
       "      <td>29.547444</td>\n",
       "    </tr>\n",
       "    <tr>\n",
       "      <th>14</th>\n",
       "      <td>17.100475</td>\n",
       "      <td>31.933120</td>\n",
       "    </tr>\n",
       "    <tr>\n",
       "      <th>15</th>\n",
       "      <td>15.959505</td>\n",
       "      <td>35.299631</td>\n",
       "    </tr>\n",
       "    <tr>\n",
       "      <th>16</th>\n",
       "      <td>12.689932</td>\n",
       "      <td>7.540636</td>\n",
       "    </tr>\n",
       "    <tr>\n",
       "      <th>17</th>\n",
       "      <td>15.399444</td>\n",
       "      <td>11.499206</td>\n",
       "    </tr>\n",
       "    <tr>\n",
       "      <th>18</th>\n",
       "      <td>12.136020</td>\n",
       "      <td>18.141093</td>\n",
       "    </tr>\n",
       "    <tr>\n",
       "      <th>19</th>\n",
       "      <td>15.235280</td>\n",
       "      <td>11.220515</td>\n",
       "    </tr>\n",
       "    <tr>\n",
       "      <th>20</th>\n",
       "      <td>8.601865</td>\n",
       "      <td>18.414466</td>\n",
       "    </tr>\n",
       "    <tr>\n",
       "      <th>21</th>\n",
       "      <td>12.996067</td>\n",
       "      <td>14.875118</td>\n",
       "    </tr>\n",
       "    <tr>\n",
       "      <th>22</th>\n",
       "      <td>19.164256</td>\n",
       "      <td>15.484671</td>\n",
       "    </tr>\n",
       "    <tr>\n",
       "      <th>23</th>\n",
       "      <td>12.103754</td>\n",
       "      <td>16.678940</td>\n",
       "    </tr>\n",
       "  </tbody>\n",
       "</table>\n",
       "</div>"
      ],
      "text/plain": [
       "        PCSK4     EEF1A2\n",
       "0   15.143680  20.880435\n",
       "1   23.221137  12.355210\n",
       "2   16.750119  17.750992\n",
       "3    7.823932  21.968009\n",
       "4   15.661885  11.446869\n",
       "5   18.381632  20.512741\n",
       "6   19.261454  27.674988\n",
       "7   14.823633  16.443229\n",
       "8   15.828090  14.936895\n",
       "9   10.708421  10.895482\n",
       "10  19.642445  25.749441\n",
       "11  12.573752  22.740325\n",
       "12  13.940388  30.977235\n",
       "13  14.455016  29.547444\n",
       "14  17.100475  31.933120\n",
       "15  15.959505  35.299631\n",
       "16  12.689932   7.540636\n",
       "17  15.399444  11.499206\n",
       "18  12.136020  18.141093\n",
       "19  15.235280  11.220515\n",
       "20   8.601865  18.414466\n",
       "21  12.996067  14.875118\n",
       "22  19.164256  15.484671\n",
       "23  12.103754  16.678940"
      ]
     },
     "execution_count": 67,
     "metadata": {},
     "output_type": "execute_result"
    }
   ],
   "source": [
    "normal.iloc[:, ind1]"
   ]
  },
  {
   "cell_type": "code",
   "execution_count": 114,
   "metadata": {},
   "outputs": [],
   "source": [
    "a = np.array(np.mean(normal.iloc[:, ind1]))"
   ]
  },
  {
   "cell_type": "code",
   "execution_count": 115,
   "metadata": {},
   "outputs": [],
   "source": [
    "b = np.array(np.mean(neopla.iloc[:, ind1]))"
   ]
  },
  {
   "cell_type": "code",
   "execution_count": 116,
   "metadata": {},
   "outputs": [
    {
     "data": {
      "text/plain": [
       "array([14.98342424, 19.3736122 ])"
      ]
     },
     "execution_count": 116,
     "metadata": {},
     "output_type": "execute_result"
    }
   ],
   "source": [
    "a"
   ]
  },
  {
   "cell_type": "code",
   "execution_count": 117,
   "metadata": {},
   "outputs": [
    {
     "data": {
      "text/plain": [
       "array([22.62175639, 38.2603203 ])"
      ]
     },
     "execution_count": 117,
     "metadata": {},
     "output_type": "execute_result"
    }
   ],
   "source": [
    "b"
   ]
  },
  {
   "cell_type": "code",
   "execution_count": 144,
   "metadata": {},
   "outputs": [
    {
     "data": {
      "text/plain": [
       "2"
      ]
     },
     "execution_count": 144,
     "metadata": {},
     "output_type": "execute_result"
    }
   ],
   "source": [
    "a.shape[0]"
   ]
  },
  {
   "cell_type": "code",
   "execution_count": 155,
   "metadata": {},
   "outputs": [],
   "source": [
    "def fold_change(a,b):\n",
    "    return np.amax((a,b), axis = 0) / np.amin((a,b), axis = 0)"
   ]
  },
  {
   "cell_type": "code",
   "execution_count": 154,
   "metadata": {},
   "outputs": [
    {
     "data": {
      "text/plain": [
       "array([1.50978548, 1.97486767])"
      ]
     },
     "execution_count": 154,
     "metadata": {},
     "output_type": "execute_result"
    }
   ],
   "source": [
    "np.amax((a,b), axis = 0) / np.amin((a,b), axis = 0)"
   ]
  },
  {
   "cell_type": "code",
   "execution_count": 156,
   "metadata": {},
   "outputs": [
    {
     "data": {
      "text/plain": [
       "array([1.50978548, 1.97486767])"
      ]
     },
     "execution_count": 156,
     "metadata": {},
     "output_type": "execute_result"
    }
   ],
   "source": [
    "fold_change(a, b)"
   ]
  },
  {
   "cell_type": "code",
   "execution_count": 157,
   "metadata": {},
   "outputs": [],
   "source": [
    "ind2 = np.where(reject2)[0]+2"
   ]
  },
  {
   "cell_type": "code",
   "execution_count": 158,
   "metadata": {},
   "outputs": [],
   "source": [
    "a2 = np.array(np.mean(neopla.iloc[:, ind2]))\n",
    "b2 = np.array(np.mean(cancer.iloc[:, ind2]))"
   ]
  },
  {
   "cell_type": "code",
   "execution_count": 159,
   "metadata": {},
   "outputs": [
    {
     "data": {
      "text/plain": [
       "array([  7.2242754 ,  23.2345509 ,  23.73485794,  93.81097789,\n",
       "        11.61928995,  13.85374426,  23.55036941,   9.9758859 ,\n",
       "        79.80750795,  58.74420755,   7.43255051,  20.01058997,\n",
       "        36.73193998,  75.54289166,  12.85636818,  38.74064373,\n",
       "        12.81467401,  15.14272985, 119.55363876,   6.58625707,\n",
       "         5.24881943,  20.53067717,   3.87851906,  17.19603443,\n",
       "         9.25457133,   6.1711664 ,  72.4070366 ,  10.35933249,\n",
       "        17.93638505,  19.04480954,  60.25464425,  35.12071185,\n",
       "         5.92300182,  40.66235114,  45.21267474,   6.7731953 ,\n",
       "         9.30513677,  12.43998153,  32.84125995,   8.98545253,\n",
       "         8.3168248 ,  11.84230679,  46.5193767 ,  32.22491523,\n",
       "        21.34832156,  20.90674852,   4.06015157,  15.36747876,\n",
       "        10.85655343,  10.328128  ,   3.96654828,  17.43151525,\n",
       "        13.5447071 ,   5.75110653,   5.1554173 ,  21.33668875,\n",
       "        35.57993386,  49.09254384,  18.79329732,  16.56042393,\n",
       "        19.10084566,  26.67648023,   5.65309794,  10.38356611,\n",
       "        20.96677807,  33.55031692,   4.89074389,   7.05130246,\n",
       "        10.82296074,  16.19907961,  59.31594411,  15.51924162,\n",
       "        24.02096924,   9.49190486,  40.66828738,   9.55318597,\n",
       "        10.07090298,  10.28035637,  31.80862866])"
      ]
     },
     "execution_count": 159,
     "metadata": {},
     "output_type": "execute_result"
    }
   ],
   "source": [
    "a2"
   ]
  },
  {
   "cell_type": "code",
   "execution_count": 160,
   "metadata": {},
   "outputs": [
    {
     "data": {
      "text/plain": [
       "array([False,  True,  True,  True,  True,  True,  True,  True,  True,\n",
       "        True,  True,  True,  True,  True,  True,  True,  True,  True,\n",
       "        True,  True,  True,  True,  True,  True,  True, False,  True,\n",
       "        True,  True,  True,  True,  True,  True,  True,  True,  True,\n",
       "        True,  True,  True,  True,  True,  True,  True,  True,  True,\n",
       "        True,  True,  True, False,  True,  True,  True,  True,  True,\n",
       "        True,  True,  True,  True,  True,  True,  True,  True,  True,\n",
       "       False,  True, False,  True,  True,  True,  True,  True, False,\n",
       "        True,  True,  True,  True,  True,  True,  True])"
      ]
     },
     "execution_count": 160,
     "metadata": {},
     "output_type": "execute_result"
    }
   ],
   "source": [
    "a2 > b2"
   ]
  },
  {
   "cell_type": "code",
   "execution_count": 161,
   "metadata": {},
   "outputs": [
    {
     "data": {
      "text/plain": [
       "array([1.84386011, 2.38320974, 1.99738074, 1.69342761, 1.79563968,\n",
       "       2.11952259, 1.63002308, 2.44923267, 3.03356616, 2.7937854 ,\n",
       "       2.12593349, 1.93779595, 1.67439355, 2.00497754, 4.36483977,\n",
       "       2.32349963, 1.7472427 , 2.04564868, 1.64752395, 2.73697373,\n",
       "       2.14045836, 1.54883106, 2.57649902, 1.8542308 , 2.90551507,\n",
       "       2.28879237, 2.67593247, 2.20896342, 2.00240242, 2.15360832,\n",
       "       1.81647501, 1.71870947, 2.12017726, 1.9963597 , 2.09338187,\n",
       "       2.81788761, 2.24641149, 2.38049626, 1.81757067, 2.78462157,\n",
       "       2.44265404, 1.81955963, 2.27908596, 2.67543519, 3.35214598,\n",
       "       1.8933657 , 1.99008018, 2.08237955, 1.65654077, 1.80525446,\n",
       "       2.17177847, 1.98851437, 1.65060263, 2.75708797, 2.38109114,\n",
       "       2.81863772, 2.79130034, 1.83683151, 2.03575403, 2.01139627,\n",
       "       1.76248132, 2.56307303, 1.63641323, 2.38818545, 1.9955948 ,\n",
       "       1.34177392, 2.16821757, 2.53383818, 1.59816783, 2.15903712,\n",
       "       2.52563094, 1.30496821, 2.07890487, 4.30808606, 2.86894016,\n",
       "       3.22449471, 2.55915048, 1.87043375, 1.75854615])"
      ]
     },
     "execution_count": 161,
     "metadata": {},
     "output_type": "execute_result"
    }
   ],
   "source": [
    "fold_change(a2, b2)"
   ]
  },
  {
   "cell_type": "code",
   "execution_count": 162,
   "metadata": {},
   "outputs": [
    {
     "data": {
      "text/plain": [
       "77"
      ]
     },
     "execution_count": 162,
     "metadata": {},
     "output_type": "execute_result"
    }
   ],
   "source": [
    "sum(fold_change(a2, b2) > 1.5)"
   ]
  },
  {
   "cell_type": "code",
   "execution_count": 163,
   "metadata": {},
   "outputs": [
    {
     "data": {
      "text/plain": [
       "2"
      ]
     },
     "execution_count": 163,
     "metadata": {},
     "output_type": "execute_result"
    }
   ],
   "source": [
    "sum(fold_change(a, b) > 1.5)"
   ]
  },
  {
   "cell_type": "code",
   "execution_count": 164,
   "metadata": {},
   "outputs": [],
   "source": [
    "write_answer('bioinformatics_ans3.txt', sum(fold_change(a, b) > 1.5))\n",
    "write_answer('bioinformatics_ans4.txt', sum(fold_change(a2, b2) > 1.5))"
   ]
  },
  {
   "cell_type": "markdown",
   "metadata": {},
   "source": [
    "**Часть 3: поправка методом Бенджамини-Хохберга**\n",
    "\n",
    "Данная часть задания аналогична второй части за исключением того, что нужно использовать метод Бенджамини-Хохберга.\n",
    "\n",
    "Методы коррекции, которые контролируют FDR, допускают больше ошибок первого рода и имеют большую мощность, чем методы, контролирующие FWER. Большая мощность означает, что эти методы будут совершать меньше ошибок второго рода (то есть будут лучше улавливать отклонения от H_0, когда они есть, и будут чаще отклонять H_0, когда отличий нет).\n",
    "\n",
    "В качестве ответа к этому заданию требуется ввести количество значимых отличий в каждой группе после того, как произведена коррекция Бенджамини-Хохберга, причем так же, как и во второй части, считать только такие отличия, у которых abs(fold change) > 1.5."
   ]
  },
  {
   "cell_type": "markdown",
   "metadata": {},
   "source": [
    "*P.S. Вспомните, какое значение имеет уровень значимости alpha в каждой из поправок: Холма и Бенджамини-Хохберга. Одинаковый ли смысл имеет уровень значимости в каждой из поправок?*"
   ]
  },
  {
   "cell_type": "code",
   "execution_count": 165,
   "metadata": {},
   "outputs": [],
   "source": [
    "reject3, p_corrected3, a1, a2 = multipletests(stat1[1], \n",
    "                                            alpha = 0.025, \n",
    "                                            method = 'fdr_bh') "
   ]
  },
  {
   "cell_type": "code",
   "execution_count": 166,
   "metadata": {},
   "outputs": [],
   "source": [
    "reject4, p_corrected4, a1, a2 = multipletests(stat2[1], \n",
    "                                            alpha = 0.025, \n",
    "                                            method = 'fdr_bh') "
   ]
  },
  {
   "cell_type": "code",
   "execution_count": 167,
   "metadata": {},
   "outputs": [
    {
     "data": {
      "text/plain": [
       "(4, 832)"
      ]
     },
     "execution_count": 167,
     "metadata": {},
     "output_type": "execute_result"
    }
   ],
   "source": [
    "sum(reject3), sum(reject4)"
   ]
  },
  {
   "cell_type": "code",
   "execution_count": 168,
   "metadata": {},
   "outputs": [],
   "source": [
    "ind3 = np.where(reject3)[0]+2\n",
    "ind4 = np.where(reject4)[0]+2"
   ]
  },
  {
   "cell_type": "code",
   "execution_count": 169,
   "metadata": {},
   "outputs": [],
   "source": [
    "a3 = np.array(np.mean(normal.iloc[:, ind3]))\n",
    "b3 = np.array(np.mean(neopla.iloc[:, ind3]))\n",
    "a4 = np.array(np.mean(neopla.iloc[:, ind4]))\n",
    "b4 = np.array(np.mean(cancer.iloc[:, ind4]))"
   ]
  },
  {
   "cell_type": "code",
   "execution_count": 170,
   "metadata": {},
   "outputs": [
    {
     "data": {
      "text/plain": [
       "array([1.66382607, 1.50978548, 1.75495105, 1.97486767])"
      ]
     },
     "execution_count": 170,
     "metadata": {},
     "output_type": "execute_result"
    }
   ],
   "source": [
    "fold_change(a3, b3)"
   ]
  },
  {
   "cell_type": "code",
   "execution_count": 171,
   "metadata": {},
   "outputs": [
    {
     "data": {
      "text/plain": [
       "array([2.45886705, 1.32988386, 1.16802577, 1.84386011, 1.40650297,\n",
       "       1.35410439, 1.56781412, 1.7367625 , 1.46208665, 1.75020037,\n",
       "       1.42993285, 2.65376308, 1.19713151, 1.90368982, 1.46783124,\n",
       "       2.18636018, 2.38320974, 1.3132689 , 1.97848149, 1.62534229,\n",
       "       1.99738074, 1.4900858 , 2.08541367, 1.68856543, 2.12525298,\n",
       "       2.04686577, 1.70496719, 1.66424492, 1.39979652, 1.51192183,\n",
       "       1.8554171 , 1.62168165, 1.48099376, 1.5345145 , 1.74504408,\n",
       "       1.38625603, 1.26115545, 1.28201774, 1.16780567, 1.6618105 ,\n",
       "       1.41216009, 1.4659751 , 1.28851062, 1.30539992, 1.28419629,\n",
       "       1.4160791 , 1.36143839, 1.36788852, 2.36585123, 1.69342761,\n",
       "       1.281047  , 1.58850702, 2.5977658 , 1.6728668 , 1.88876355,\n",
       "       1.51300893, 1.37461841, 1.8319274 , 1.79563968, 1.51601553,\n",
       "       1.86530566, 1.32845564, 2.11952259, 2.33223012, 1.42073403,\n",
       "       1.1893973 , 1.51638136, 1.67400504, 1.54464251, 1.30991215,\n",
       "       1.43369755, 1.96968535, 1.22930521, 1.28015093, 1.55476907,\n",
       "       2.53628432, 1.79492942, 1.25682787, 1.27367589, 1.29028469,\n",
       "       1.76432112, 1.3381149 , 1.49832484, 1.70826939, 2.20263321,\n",
       "       1.63002308, 1.55581344, 1.69613891, 1.65983609, 2.00127509,\n",
       "       1.55213496, 1.2512734 , 1.50390315, 1.68875659, 1.29549176,\n",
       "       1.57703913, 1.40166293, 1.97702362, 2.15101487, 1.61502865,\n",
       "       1.40859101, 1.53602274, 2.44923267, 1.52649364, 1.80256746,\n",
       "       1.34254481, 3.24000604, 1.50861407, 1.84050451, 2.05983176,\n",
       "       1.50021034, 1.64865797, 1.43057109, 1.49980924, 2.41497135,\n",
       "       1.34602282, 3.03356616, 2.7937854 , 1.47372022, 1.63340061,\n",
       "       1.76006261, 1.3692087 , 1.51369102, 1.40808525, 1.57225334,\n",
       "       1.90833432, 1.27301931, 1.54177467, 1.92787132, 1.60441101,\n",
       "       2.12593349, 1.26593852, 1.60245958, 1.49404023, 1.89422028,\n",
       "       1.35496436, 1.49576202, 1.61545531, 1.6879454 , 1.57999427,\n",
       "       1.47340539, 2.0953566 , 1.38902833, 1.25514122, 1.7166046 ,\n",
       "       1.24378153, 1.56948592, 1.88661057, 1.48105786, 1.56694134,\n",
       "       2.46482835, 1.41821816, 1.74379645, 1.30750225, 1.93779595,\n",
       "       2.31353198, 1.61050627, 1.80738442, 1.67439355, 1.22775732,\n",
       "       1.76103908, 1.45499399, 1.74627012, 1.58378829, 1.75607433,\n",
       "       1.42990247, 2.00497754, 1.53422229, 1.38714753, 2.12973217,\n",
       "       1.65562547, 2.1382082 , 1.87913846, 1.90920357, 1.38066517,\n",
       "       1.29146473, 2.1650086 , 1.48923481, 1.7484896 , 1.53362575,\n",
       "       1.68686314, 1.40308835, 1.6782351 , 1.51284622, 1.79684516,\n",
       "       1.37575308, 1.97149115, 1.45091523, 2.1705082 , 1.59950336,\n",
       "       1.64502114, 1.47563466, 1.34711307, 1.81807987, 1.63283207,\n",
       "       1.51685068, 1.3969937 , 1.51597187, 1.68207719, 1.44382953,\n",
       "       1.42257458, 1.20167139, 4.36483977, 1.5528938 , 1.69972864,\n",
       "       1.58518478, 1.68354841, 1.88881358, 2.26846518, 1.75886911,\n",
       "       2.32349963, 1.42966889, 1.34194485, 2.34982902, 1.46380664,\n",
       "       1.72197593, 1.13736709, 2.02483033, 1.20714699, 1.74674727,\n",
       "       1.73511704, 1.42423884, 1.7472427 , 1.57880944, 1.82186124,\n",
       "       2.04564868, 1.42901233, 1.48457167, 1.5858676 , 1.64752395,\n",
       "       1.46323833, 1.33561429, 1.56932927, 1.4118081 , 2.73697373,\n",
       "       1.51502748, 1.72078453, 2.14045836, 1.64859082, 1.33147935,\n",
       "       1.42260992, 1.87003425, 1.80395671, 1.56408273, 2.32534256,\n",
       "       1.54883106, 2.06910487, 1.57870607, 2.06902129, 1.96564272,\n",
       "       2.57649902, 1.38181387, 1.42446912, 3.77607098, 1.45433582,\n",
       "       1.50442226, 1.44933488, 1.89153739, 1.49667385, 1.50576523,\n",
       "       2.06250647, 2.13410575, 2.18586383, 1.49254968, 1.32626966,\n",
       "       1.68192245, 1.48978018, 1.82688723, 2.00790684, 1.36231329,\n",
       "       1.50474781, 1.50563383, 1.47025524, 1.85001926, 1.73276992,\n",
       "       2.07008443, 1.30589385, 1.46526688, 1.18984671, 1.8231082 ,\n",
       "       1.68735103, 1.51429377, 1.37052214, 1.8542308 , 1.64824897,\n",
       "       2.90551507, 1.3059735 , 1.51748605, 1.37487746, 2.29203567,\n",
       "       1.95363283, 2.2760322 , 1.33788543, 1.58784958, 1.90556928,\n",
       "       1.47543485, 1.58144505, 1.81718597, 2.26897317, 1.75238914,\n",
       "       1.46773865, 1.21509998, 1.8033164 , 1.33972732, 1.51777831,\n",
       "       1.35026007, 1.28488212, 1.52397433, 1.56828298, 1.65652651,\n",
       "       1.74516174, 1.59719715, 1.94258014, 1.31443433, 1.27774271,\n",
       "       1.4050165 , 1.88936603, 1.71782855, 2.28879237, 2.37329293,\n",
       "       1.63047774, 1.63238971, 1.63427294, 1.39349151, 1.27211931,\n",
       "       1.50442532, 2.94104896, 1.31239627, 1.18105512, 1.66371692,\n",
       "       1.8171834 , 1.71209048, 2.21491278, 1.55146372, 1.56634868,\n",
       "       2.67593247, 1.76217006, 1.87542921, 2.25259056, 1.46463651,\n",
       "       2.03144034, 1.90399618, 1.98221572, 1.55247061, 2.20896342,\n",
       "       3.11252695, 2.08153092, 1.81663352, 1.34189697, 1.86562148,\n",
       "       2.00240242, 1.92848229, 2.62509662, 1.4067272 , 1.54200223,\n",
       "       1.55818211, 1.80250078, 1.66293656, 2.07381992, 1.5044273 ,\n",
       "       1.55393481, 1.69553416, 1.51496585, 1.63565051, 1.79303815,\n",
       "       1.19394532, 1.25662304, 1.88941544, 1.99333539, 1.75427683,\n",
       "       1.59360225, 1.21453957, 1.31239935, 1.7054907 , 1.49494099,\n",
       "       1.41791275, 2.15360832, 2.24523418, 1.23868694, 1.86246551,\n",
       "       1.24668193, 1.2327203 , 1.33702982, 1.41087227, 2.2014661 ,\n",
       "       1.37121826, 1.3984243 , 1.4431374 , 1.59680419, 2.05196518,\n",
       "       1.39933819, 1.80652526, 1.5324724 , 1.50327726, 1.36102959,\n",
       "       1.2877292 , 1.30694283, 1.90372091, 1.43008657, 1.58700046,\n",
       "       1.6986808 , 1.8334264 , 1.94781272, 1.69238429, 1.28031338,\n",
       "       1.22727717, 1.77447245, 1.52488484, 1.35066209, 1.76872542,\n",
       "       1.35179412, 1.48002673, 1.3715293 , 1.44705034, 1.81647501,\n",
       "       1.43885795, 1.44722503, 1.71870947, 1.21746019, 2.56059065,\n",
       "       1.47926165, 1.38216315, 1.66951885, 1.81022785, 1.46481042,\n",
       "       1.40452896, 1.41641417, 1.58615691, 1.79576705, 1.29658699,\n",
       "       2.12017726, 1.4494153 , 1.81245056, 1.47918525, 2.744626  ,\n",
       "       2.47575683, 2.00956133, 1.52150777, 1.38234875, 2.06728258,\n",
       "       1.3796894 , 1.81592888, 1.56184208, 1.38456471, 1.44219983,\n",
       "       2.22999573, 1.41228078, 1.75158619, 1.9963597 , 1.49779117,\n",
       "       1.61375641, 1.24654278, 1.45342534, 1.44585062, 1.65026056,\n",
       "       1.6565397 , 1.56074415, 1.87115986, 2.09338187, 1.51136779,\n",
       "       1.50370289, 2.81788761, 2.24641149, 2.38049626, 1.96335086,\n",
       "       1.32651513, 2.39407066, 1.40233124, 1.39937187, 1.46166334,\n",
       "       2.28146851, 1.55055026, 1.68980995, 1.14239809, 1.44960727,\n",
       "       1.3821723 , 1.48582149, 1.69227953, 1.66219315, 1.56279055,\n",
       "       1.54015392, 2.06545741, 1.23186284, 1.78225576, 2.65130297,\n",
       "       2.03065876, 1.58698835, 1.50343686, 1.35028798, 1.48462801,\n",
       "       1.24577609, 1.7770752 , 1.52407441, 1.47284373, 1.54143331,\n",
       "       2.59350172, 2.86782931, 2.97732993, 2.33428089, 1.4487663 ,\n",
       "       2.13573605, 2.24348282, 1.52587115, 1.65718222, 1.85949055,\n",
       "       1.82508918, 2.08726157, 2.35350639, 1.55757527, 1.40464089,\n",
       "       1.24040378, 1.24482688, 1.81757067, 1.73071559, 1.59921407,\n",
       "       1.79921121, 1.48568936, 1.27443947, 2.78462157, 2.44265404,\n",
       "       1.22322661, 1.40126101, 1.81955963, 2.05858327, 1.7035922 ,\n",
       "       1.53703756, 1.26720281, 1.15135957, 1.48352428, 2.27908596,\n",
       "       4.26742586, 1.61603267, 2.01517561, 1.42134169, 1.49822961,\n",
       "       1.49206878, 2.67543519, 1.79879725, 1.60485367, 1.73720619,\n",
       "       1.28834366, 1.43664129, 1.60291469, 1.44630174, 1.3447731 ,\n",
       "       1.49211051, 1.46436442, 1.41118562, 3.35214598, 1.2299096 ,\n",
       "       1.79140721, 1.28587797, 1.36244302, 1.49473116, 1.51478821,\n",
       "       1.46014339, 1.8933657 , 1.78433098, 1.26093771, 1.34802299,\n",
       "       1.3533932 , 1.26846087, 1.55080799, 1.46904176, 1.23778735,\n",
       "       1.7623002 , 1.57523855, 2.49962965, 1.4549915 , 1.61157336,\n",
       "       1.46166536, 1.42288125, 1.51644516, 1.99799975, 1.98746424,\n",
       "       1.19399356, 1.89148811, 1.99008018, 1.91193072, 1.38373418,\n",
       "       1.7669118 , 1.62598916, 2.08237955, 1.39842536, 2.05019677,\n",
       "       1.47429927, 1.97028176, 1.44571816, 2.70895558, 1.46261004,\n",
       "       1.91149879, 1.33629524, 1.65654077, 1.57767206, 1.26417572,\n",
       "       1.80525446, 1.59795777, 1.92561061, 1.29619732, 1.97945512,\n",
       "       3.04059057, 2.01887996, 1.55746746, 1.42857819, 1.33902031,\n",
       "       1.89801685, 1.47767902, 2.28217692, 1.86190163, 1.68455207,\n",
       "       1.61733217, 4.10114468, 1.79759743, 2.17177847, 1.62987348,\n",
       "       1.24551174, 1.84835   , 1.98851437, 2.21643909, 2.742793  ,\n",
       "       1.62500313, 1.69735454, 1.55756726, 1.2757483 , 1.3199208 ,\n",
       "       1.49116274, 2.13475342, 1.29724642, 1.51490668, 1.65060263,\n",
       "       2.75708797, 1.30394346, 1.39393665, 1.96087153, 2.38109114,\n",
       "       2.81863772, 1.28708381, 1.28550915, 1.55637928, 2.79130034,\n",
       "       1.83683151, 1.30390827, 1.60349909, 1.63723651, 1.90437031,\n",
       "       1.33945763, 1.18377116, 1.36381802, 1.49111557, 1.42845145,\n",
       "       2.03972428, 2.03575403, 2.98690588, 1.84613888, 1.61822384,\n",
       "       1.19075637, 2.01139627, 1.83586945, 1.74546732, 1.76248132,\n",
       "       1.57766412, 1.33505878, 1.69970484, 1.40980009, 1.45079641,\n",
       "       1.7366076 , 1.51688228, 1.98702751, 1.3147909 , 1.65120024,\n",
       "       1.42217207, 1.53129476, 1.32274209, 1.22375462, 1.43078523,\n",
       "       1.30765372, 1.61499679, 1.95739762, 1.76167932, 1.43924469,\n",
       "       1.98161811, 1.75923175, 1.80035145, 1.43723657, 2.56307303,\n",
       "       1.97426324, 1.75977085, 1.92501292, 1.4856307 , 1.68635618,\n",
       "       1.50984805, 1.43782131, 2.24188343, 1.62877607, 1.34523355,\n",
       "       1.48778738, 2.20983117, 1.30821835, 1.35293093, 1.50727106,\n",
       "       1.35326715, 1.56734999, 2.26559831, 1.55763287, 1.4114528 ,\n",
       "       1.63641323, 1.52200879, 1.53156091, 1.76692289, 2.38818545,\n",
       "       1.62430708, 1.29434354, 1.46528736, 1.50157605, 1.65685616,\n",
       "       2.14461099, 1.9955948 , 1.34177392, 1.46875361, 1.56361465,\n",
       "       1.74445124, 2.16821757, 2.14802017, 2.98650739, 1.42666061,\n",
       "       2.53383818, 1.59816783, 1.55519078, 1.63860684, 1.77171602,\n",
       "       1.3838986 , 1.42753332, 1.63636077, 2.10361963, 1.5327565 ,\n",
       "       1.29164092, 1.71527639, 2.63190666, 1.73126764, 1.70047556,\n",
       "       1.68465044, 2.01762073, 1.47407793, 1.72492604, 1.2737214 ,\n",
       "       2.15903712, 1.24562267, 2.52563094, 1.67238324, 3.79871183,\n",
       "       1.74095523, 1.36775651, 1.30496821, 1.65479647, 1.91365424,\n",
       "       2.07890487, 1.55326341, 1.49429177, 1.53163396, 1.4496363 ,\n",
       "       2.55227235, 1.54414944, 1.80018411, 1.52121131, 1.44644802,\n",
       "       2.30101829, 1.38271946, 1.49585961, 1.95414056, 1.38742656,\n",
       "       1.91386776, 1.37028474, 1.42594502, 1.75767545, 1.35447255,\n",
       "       1.45639299, 1.42604374, 1.43573722, 1.96213999, 1.38917382,\n",
       "       4.30808606, 1.32238557, 1.59770514, 1.25107672, 1.381854  ,\n",
       "       1.16729061, 1.37210825, 2.86894016, 1.28364783, 1.69361616,\n",
       "       1.4698735 , 1.5430228 , 1.37554955, 1.55132826, 1.42801525,\n",
       "       1.27523099, 2.09654837, 2.8599672 , 1.80355438, 1.67851653,\n",
       "       1.78886443, 1.24270825, 1.42095646, 3.22449471, 1.52273514,\n",
       "       1.90481037, 1.31964904, 1.86981702, 1.78297866, 1.80107433,\n",
       "       1.47245492, 1.45088383, 1.81587611, 1.7802887 , 1.95883225,\n",
       "       1.78941144, 2.01362818, 1.6399453 , 1.66288864, 2.55915048,\n",
       "       2.96042747, 2.29901513, 1.49958019, 1.46774555, 1.72533452,\n",
       "       2.25183904, 1.87043375, 1.6157831 , 1.76346212, 2.1734903 ,\n",
       "       1.75854615, 1.43758683])"
      ]
     },
     "execution_count": 171,
     "metadata": {},
     "output_type": "execute_result"
    }
   ],
   "source": [
    "fold_change(a4, b4)"
   ]
  },
  {
   "cell_type": "code",
   "execution_count": 172,
   "metadata": {},
   "outputs": [
    {
     "data": {
      "text/plain": [
       "4"
      ]
     },
     "execution_count": 172,
     "metadata": {},
     "output_type": "execute_result"
    }
   ],
   "source": [
    "sum(fold_change(a3, b3) > 1.5)"
   ]
  },
  {
   "cell_type": "code",
   "execution_count": 173,
   "metadata": {},
   "outputs": [
    {
     "data": {
      "text/plain": [
       "524"
      ]
     },
     "execution_count": 173,
     "metadata": {},
     "output_type": "execute_result"
    }
   ],
   "source": [
    "sum(fold_change(a4, b4) > 1.5)"
   ]
  },
  {
   "cell_type": "code",
   "execution_count": 174,
   "metadata": {},
   "outputs": [],
   "source": [
    "write_answer('bioinformatics_ans5.txt', sum(fold_change(a3, b3) > 1.5))\n",
    "write_answer('bioinformatics_ans6.txt', sum(fold_change(a4, b4) > 1.5))"
   ]
  },
  {
   "cell_type": "code",
   "execution_count": null,
   "metadata": {},
   "outputs": [],
   "source": []
  }
 ],
 "metadata": {
  "kernelspec": {
   "display_name": "Python 3",
   "language": "python",
   "name": "python3"
  },
  "language_info": {
   "codemirror_mode": {
    "name": "ipython",
    "version": 3
   },
   "file_extension": ".py",
   "mimetype": "text/x-python",
   "name": "python",
   "nbconvert_exporter": "python",
   "pygments_lexer": "ipython3",
   "version": "3.7.3"
  }
 },
 "nbformat": 4,
 "nbformat_minor": 2
}
